{
  "cells": [
    {
      "cell_type": "markdown",
      "metadata": {
        "id": "view-in-github",
        "colab_type": "text"
      },
      "source": [
        "<a href=\"https://colab.research.google.com/github/Noahkandie/Indigenous-Research-Storytelling/blob/main/Indigenous_research.ipynb\" target=\"_parent\"><img src=\"https://colab.research.google.com/assets/colab-badge.svg\" alt=\"Open In Colab\"/></a>"
      ]
    },
    {
      "cell_type": "code",
      "execution_count": 1,
      "metadata": {
        "id": "Chnm4KPY04_e"
      },
      "outputs": [],
      "source": [
        "import pandas as pd\n",
        "import matplotlib.pyplot as plt\n",
        "import seaborn as sns\n",
        "from textblob import TextBlob\n",
        "from collections import Counter\n",
        "from sklearn.feature_extraction.text import CountVectorizer\n",
        "from sklearn.decomposition import LatentDirichletAllocation\n",
        "from sklearn.feature_extraction.text import TfidfVectorizer\n",
        "from sklearn.cluster import KMeans\n",
        "import numpy as np\n",
        "import re\n",
        "from wordcloud import WordCloud\n",
        "import nltk\n",
        "from nltk.corpus import stopwords"
      ]
    },
    {
      "cell_type": "code",
      "execution_count": 2,
      "metadata": {
        "colab": {
          "base_uri": "https://localhost:8080/",
          "height": 504
        },
        "id": "5DlOklp21GyD",
        "outputId": "feeec758-aac9-46b3-c43e-ee0604b6264b"
      },
      "outputs": [
        {
          "output_type": "execute_result",
          "data": {
            "text/plain": [
              "                                                text quote/text  \\\n",
              "0  Our latest newspaper edition @Eastleighvoice h...        NaN   \n",
              "1  @DiamondDk20 Mine is replacement. Basically ju...        NaN   \n",
              "2  The government has totally shocked me today. I...        NaN   \n",
              "3                              @maanxur Imagine 🤣🤣🤣🤣        NaN   \n",
              "4  Please very guided, I get hundreds of calls da...        NaN   \n",
              "\n",
              "                                  author/description  author/followers  \\\n",
              "0  Print journalist? I write | Yes,in my mundane,...            281477   \n",
              "1  Print journalist? I write | Yes,in my mundane,...            281477   \n",
              "2  Print journalist? I write | Yes,in my mundane,...            281477   \n",
              "3  Print journalist? I write | Yes,in my mundane,...            281477   \n",
              "4  Print journalist? I write | Yes,in my mundane,...            281477   \n",
              "\n",
              "   author/favouritesCount                author/createdAt              source  \\\n",
              "0                   43566  Tue Mar 27 14:15:56 +0000 2018  Twitter for iPhone   \n",
              "1                   43566  Tue Mar 27 14:15:56 +0000 2018  Twitter for iPhone   \n",
              "2                   43566  Tue Mar 27 14:15:56 +0000 2018  Twitter for iPhone   \n",
              "3                   43566  Tue Mar 27 14:15:56 +0000 2018  Twitter for iPhone   \n",
              "4                   43566  Tue Mar 27 14:15:56 +0000 2018  Twitter for iPhone   \n",
              "\n",
              "   quote/viewCount  quoteCount  \\\n",
              "0              NaN           2   \n",
              "1              NaN           0   \n",
              "2              NaN          17   \n",
              "3              NaN           0   \n",
              "4              NaN           1   \n",
              "\n",
              "                                          twitterUrl   type  \\\n",
              "0  https://twitter.com/Honeyfarsafi/status/179660...  tweet   \n",
              "1  https://twitter.com/Honeyfarsafi/status/179654...  tweet   \n",
              "2  https://twitter.com/Honeyfarsafi/status/179654...  tweet   \n",
              "3  https://twitter.com/Honeyfarsafi/status/179651...  tweet   \n",
              "4  https://twitter.com/Honeyfarsafi/status/179649...  tweet   \n",
              "\n",
              "                                                 url  \\\n",
              "0  https://x.com/Honeyfarsafi/status/179660743141...   \n",
              "1  https://x.com/Honeyfarsafi/status/179654792626...   \n",
              "2  https://x.com/Honeyfarsafi/status/179654650881...   \n",
              "3  https://x.com/Honeyfarsafi/status/179651695954...   \n",
              "4  https://x.com/Honeyfarsafi/status/179649741360...   \n",
              "\n",
              "                        createdAt author/location  retweetCount  replyCount  \\\n",
              "0  Fri May 31 18:19:25 +0000 2024  Nairobi, Kenya           5.0         NaN   \n",
              "1  Fri May 31 14:22:58 +0000 2024  Nairobi, Kenya           0.0         NaN   \n",
              "2  Fri May 31 14:17:20 +0000 2024  Nairobi, Kenya         122.0         NaN   \n",
              "3  Fri May 31 12:19:55 +0000 2024  Nairobi, Kenya           0.0         NaN   \n",
              "4  Fri May 31 11:02:15 +0000 2024  Nairobi, Kenya          26.0         NaN   \n",
              "\n",
              "   likeCount  \n",
              "0       56.0  \n",
              "1       16.0  \n",
              "2     1184.0  \n",
              "3        1.0  \n",
              "4       99.0  "
            ],
            "text/html": [
              "\n",
              "  <div id=\"df-55ea3a20-9364-46f5-9eb7-f85c9a206a3a\" class=\"colab-df-container\">\n",
              "    <div>\n",
              "<style scoped>\n",
              "    .dataframe tbody tr th:only-of-type {\n",
              "        vertical-align: middle;\n",
              "    }\n",
              "\n",
              "    .dataframe tbody tr th {\n",
              "        vertical-align: top;\n",
              "    }\n",
              "\n",
              "    .dataframe thead th {\n",
              "        text-align: right;\n",
              "    }\n",
              "</style>\n",
              "<table border=\"1\" class=\"dataframe\">\n",
              "  <thead>\n",
              "    <tr style=\"text-align: right;\">\n",
              "      <th></th>\n",
              "      <th>text</th>\n",
              "      <th>quote/text</th>\n",
              "      <th>author/description</th>\n",
              "      <th>author/followers</th>\n",
              "      <th>author/favouritesCount</th>\n",
              "      <th>author/createdAt</th>\n",
              "      <th>source</th>\n",
              "      <th>quote/viewCount</th>\n",
              "      <th>quoteCount</th>\n",
              "      <th>twitterUrl</th>\n",
              "      <th>type</th>\n",
              "      <th>url</th>\n",
              "      <th>createdAt</th>\n",
              "      <th>author/location</th>\n",
              "      <th>retweetCount</th>\n",
              "      <th>replyCount</th>\n",
              "      <th>likeCount</th>\n",
              "    </tr>\n",
              "  </thead>\n",
              "  <tbody>\n",
              "    <tr>\n",
              "      <th>0</th>\n",
              "      <td>Our latest newspaper edition @Eastleighvoice h...</td>\n",
              "      <td>NaN</td>\n",
              "      <td>Print journalist? I write | Yes,in my mundane,...</td>\n",
              "      <td>281477</td>\n",
              "      <td>43566</td>\n",
              "      <td>Tue Mar 27 14:15:56 +0000 2018</td>\n",
              "      <td>Twitter for iPhone</td>\n",
              "      <td>NaN</td>\n",
              "      <td>2</td>\n",
              "      <td>https://twitter.com/Honeyfarsafi/status/179660...</td>\n",
              "      <td>tweet</td>\n",
              "      <td>https://x.com/Honeyfarsafi/status/179660743141...</td>\n",
              "      <td>Fri May 31 18:19:25 +0000 2024</td>\n",
              "      <td>Nairobi, Kenya</td>\n",
              "      <td>5.0</td>\n",
              "      <td>NaN</td>\n",
              "      <td>56.0</td>\n",
              "    </tr>\n",
              "    <tr>\n",
              "      <th>1</th>\n",
              "      <td>@DiamondDk20 Mine is replacement. Basically ju...</td>\n",
              "      <td>NaN</td>\n",
              "      <td>Print journalist? I write | Yes,in my mundane,...</td>\n",
              "      <td>281477</td>\n",
              "      <td>43566</td>\n",
              "      <td>Tue Mar 27 14:15:56 +0000 2018</td>\n",
              "      <td>Twitter for iPhone</td>\n",
              "      <td>NaN</td>\n",
              "      <td>0</td>\n",
              "      <td>https://twitter.com/Honeyfarsafi/status/179654...</td>\n",
              "      <td>tweet</td>\n",
              "      <td>https://x.com/Honeyfarsafi/status/179654792626...</td>\n",
              "      <td>Fri May 31 14:22:58 +0000 2024</td>\n",
              "      <td>Nairobi, Kenya</td>\n",
              "      <td>0.0</td>\n",
              "      <td>NaN</td>\n",
              "      <td>16.0</td>\n",
              "    </tr>\n",
              "    <tr>\n",
              "      <th>2</th>\n",
              "      <td>The government has totally shocked me today. I...</td>\n",
              "      <td>NaN</td>\n",
              "      <td>Print journalist? I write | Yes,in my mundane,...</td>\n",
              "      <td>281477</td>\n",
              "      <td>43566</td>\n",
              "      <td>Tue Mar 27 14:15:56 +0000 2018</td>\n",
              "      <td>Twitter for iPhone</td>\n",
              "      <td>NaN</td>\n",
              "      <td>17</td>\n",
              "      <td>https://twitter.com/Honeyfarsafi/status/179654...</td>\n",
              "      <td>tweet</td>\n",
              "      <td>https://x.com/Honeyfarsafi/status/179654650881...</td>\n",
              "      <td>Fri May 31 14:17:20 +0000 2024</td>\n",
              "      <td>Nairobi, Kenya</td>\n",
              "      <td>122.0</td>\n",
              "      <td>NaN</td>\n",
              "      <td>1184.0</td>\n",
              "    </tr>\n",
              "    <tr>\n",
              "      <th>3</th>\n",
              "      <td>@maanxur Imagine 🤣🤣🤣🤣</td>\n",
              "      <td>NaN</td>\n",
              "      <td>Print journalist? I write | Yes,in my mundane,...</td>\n",
              "      <td>281477</td>\n",
              "      <td>43566</td>\n",
              "      <td>Tue Mar 27 14:15:56 +0000 2018</td>\n",
              "      <td>Twitter for iPhone</td>\n",
              "      <td>NaN</td>\n",
              "      <td>0</td>\n",
              "      <td>https://twitter.com/Honeyfarsafi/status/179651...</td>\n",
              "      <td>tweet</td>\n",
              "      <td>https://x.com/Honeyfarsafi/status/179651695954...</td>\n",
              "      <td>Fri May 31 12:19:55 +0000 2024</td>\n",
              "      <td>Nairobi, Kenya</td>\n",
              "      <td>0.0</td>\n",
              "      <td>NaN</td>\n",
              "      <td>1.0</td>\n",
              "    </tr>\n",
              "    <tr>\n",
              "      <th>4</th>\n",
              "      <td>Please very guided, I get hundreds of calls da...</td>\n",
              "      <td>NaN</td>\n",
              "      <td>Print journalist? I write | Yes,in my mundane,...</td>\n",
              "      <td>281477</td>\n",
              "      <td>43566</td>\n",
              "      <td>Tue Mar 27 14:15:56 +0000 2018</td>\n",
              "      <td>Twitter for iPhone</td>\n",
              "      <td>NaN</td>\n",
              "      <td>1</td>\n",
              "      <td>https://twitter.com/Honeyfarsafi/status/179649...</td>\n",
              "      <td>tweet</td>\n",
              "      <td>https://x.com/Honeyfarsafi/status/179649741360...</td>\n",
              "      <td>Fri May 31 11:02:15 +0000 2024</td>\n",
              "      <td>Nairobi, Kenya</td>\n",
              "      <td>26.0</td>\n",
              "      <td>NaN</td>\n",
              "      <td>99.0</td>\n",
              "    </tr>\n",
              "  </tbody>\n",
              "</table>\n",
              "</div>\n",
              "    <div class=\"colab-df-buttons\">\n",
              "\n",
              "  <div class=\"colab-df-container\">\n",
              "    <button class=\"colab-df-convert\" onclick=\"convertToInteractive('df-55ea3a20-9364-46f5-9eb7-f85c9a206a3a')\"\n",
              "            title=\"Convert this dataframe to an interactive table.\"\n",
              "            style=\"display:none;\">\n",
              "\n",
              "  <svg xmlns=\"http://www.w3.org/2000/svg\" height=\"24px\" viewBox=\"0 -960 960 960\">\n",
              "    <path d=\"M120-120v-720h720v720H120Zm60-500h600v-160H180v160Zm220 220h160v-160H400v160Zm0 220h160v-160H400v160ZM180-400h160v-160H180v160Zm440 0h160v-160H620v160ZM180-180h160v-160H180v160Zm440 0h160v-160H620v160Z\"/>\n",
              "  </svg>\n",
              "    </button>\n",
              "\n",
              "  <style>\n",
              "    .colab-df-container {\n",
              "      display:flex;\n",
              "      gap: 12px;\n",
              "    }\n",
              "\n",
              "    .colab-df-convert {\n",
              "      background-color: #E8F0FE;\n",
              "      border: none;\n",
              "      border-radius: 50%;\n",
              "      cursor: pointer;\n",
              "      display: none;\n",
              "      fill: #1967D2;\n",
              "      height: 32px;\n",
              "      padding: 0 0 0 0;\n",
              "      width: 32px;\n",
              "    }\n",
              "\n",
              "    .colab-df-convert:hover {\n",
              "      background-color: #E2EBFA;\n",
              "      box-shadow: 0px 1px 2px rgba(60, 64, 67, 0.3), 0px 1px 3px 1px rgba(60, 64, 67, 0.15);\n",
              "      fill: #174EA6;\n",
              "    }\n",
              "\n",
              "    .colab-df-buttons div {\n",
              "      margin-bottom: 4px;\n",
              "    }\n",
              "\n",
              "    [theme=dark] .colab-df-convert {\n",
              "      background-color: #3B4455;\n",
              "      fill: #D2E3FC;\n",
              "    }\n",
              "\n",
              "    [theme=dark] .colab-df-convert:hover {\n",
              "      background-color: #434B5C;\n",
              "      box-shadow: 0px 1px 3px 1px rgba(0, 0, 0, 0.15);\n",
              "      filter: drop-shadow(0px 1px 2px rgba(0, 0, 0, 0.3));\n",
              "      fill: #FFFFFF;\n",
              "    }\n",
              "  </style>\n",
              "\n",
              "    <script>\n",
              "      const buttonEl =\n",
              "        document.querySelector('#df-55ea3a20-9364-46f5-9eb7-f85c9a206a3a button.colab-df-convert');\n",
              "      buttonEl.style.display =\n",
              "        google.colab.kernel.accessAllowed ? 'block' : 'none';\n",
              "\n",
              "      async function convertToInteractive(key) {\n",
              "        const element = document.querySelector('#df-55ea3a20-9364-46f5-9eb7-f85c9a206a3a');\n",
              "        const dataTable =\n",
              "          await google.colab.kernel.invokeFunction('convertToInteractive',\n",
              "                                                    [key], {});\n",
              "        if (!dataTable) return;\n",
              "\n",
              "        const docLinkHtml = 'Like what you see? Visit the ' +\n",
              "          '<a target=\"_blank\" href=https://colab.research.google.com/notebooks/data_table.ipynb>data table notebook</a>'\n",
              "          + ' to learn more about interactive tables.';\n",
              "        element.innerHTML = '';\n",
              "        dataTable['output_type'] = 'display_data';\n",
              "        await google.colab.output.renderOutput(dataTable, element);\n",
              "        const docLink = document.createElement('div');\n",
              "        docLink.innerHTML = docLinkHtml;\n",
              "        element.appendChild(docLink);\n",
              "      }\n",
              "    </script>\n",
              "  </div>\n",
              "\n",
              "\n",
              "<div id=\"df-3b4a8c3d-f3b1-4830-a1e8-ff18d40c5725\">\n",
              "  <button class=\"colab-df-quickchart\" onclick=\"quickchart('df-3b4a8c3d-f3b1-4830-a1e8-ff18d40c5725')\"\n",
              "            title=\"Suggest charts\"\n",
              "            style=\"display:none;\">\n",
              "\n",
              "<svg xmlns=\"http://www.w3.org/2000/svg\" height=\"24px\"viewBox=\"0 0 24 24\"\n",
              "     width=\"24px\">\n",
              "    <g>\n",
              "        <path d=\"M19 3H5c-1.1 0-2 .9-2 2v14c0 1.1.9 2 2 2h14c1.1 0 2-.9 2-2V5c0-1.1-.9-2-2-2zM9 17H7v-7h2v7zm4 0h-2V7h2v10zm4 0h-2v-4h2v4z\"/>\n",
              "    </g>\n",
              "</svg>\n",
              "  </button>\n",
              "\n",
              "<style>\n",
              "  .colab-df-quickchart {\n",
              "      --bg-color: #E8F0FE;\n",
              "      --fill-color: #1967D2;\n",
              "      --hover-bg-color: #E2EBFA;\n",
              "      --hover-fill-color: #174EA6;\n",
              "      --disabled-fill-color: #AAA;\n",
              "      --disabled-bg-color: #DDD;\n",
              "  }\n",
              "\n",
              "  [theme=dark] .colab-df-quickchart {\n",
              "      --bg-color: #3B4455;\n",
              "      --fill-color: #D2E3FC;\n",
              "      --hover-bg-color: #434B5C;\n",
              "      --hover-fill-color: #FFFFFF;\n",
              "      --disabled-bg-color: #3B4455;\n",
              "      --disabled-fill-color: #666;\n",
              "  }\n",
              "\n",
              "  .colab-df-quickchart {\n",
              "    background-color: var(--bg-color);\n",
              "    border: none;\n",
              "    border-radius: 50%;\n",
              "    cursor: pointer;\n",
              "    display: none;\n",
              "    fill: var(--fill-color);\n",
              "    height: 32px;\n",
              "    padding: 0;\n",
              "    width: 32px;\n",
              "  }\n",
              "\n",
              "  .colab-df-quickchart:hover {\n",
              "    background-color: var(--hover-bg-color);\n",
              "    box-shadow: 0 1px 2px rgba(60, 64, 67, 0.3), 0 1px 3px 1px rgba(60, 64, 67, 0.15);\n",
              "    fill: var(--button-hover-fill-color);\n",
              "  }\n",
              "\n",
              "  .colab-df-quickchart-complete:disabled,\n",
              "  .colab-df-quickchart-complete:disabled:hover {\n",
              "    background-color: var(--disabled-bg-color);\n",
              "    fill: var(--disabled-fill-color);\n",
              "    box-shadow: none;\n",
              "  }\n",
              "\n",
              "  .colab-df-spinner {\n",
              "    border: 2px solid var(--fill-color);\n",
              "    border-color: transparent;\n",
              "    border-bottom-color: var(--fill-color);\n",
              "    animation:\n",
              "      spin 1s steps(1) infinite;\n",
              "  }\n",
              "\n",
              "  @keyframes spin {\n",
              "    0% {\n",
              "      border-color: transparent;\n",
              "      border-bottom-color: var(--fill-color);\n",
              "      border-left-color: var(--fill-color);\n",
              "    }\n",
              "    20% {\n",
              "      border-color: transparent;\n",
              "      border-left-color: var(--fill-color);\n",
              "      border-top-color: var(--fill-color);\n",
              "    }\n",
              "    30% {\n",
              "      border-color: transparent;\n",
              "      border-left-color: var(--fill-color);\n",
              "      border-top-color: var(--fill-color);\n",
              "      border-right-color: var(--fill-color);\n",
              "    }\n",
              "    40% {\n",
              "      border-color: transparent;\n",
              "      border-right-color: var(--fill-color);\n",
              "      border-top-color: var(--fill-color);\n",
              "    }\n",
              "    60% {\n",
              "      border-color: transparent;\n",
              "      border-right-color: var(--fill-color);\n",
              "    }\n",
              "    80% {\n",
              "      border-color: transparent;\n",
              "      border-right-color: var(--fill-color);\n",
              "      border-bottom-color: var(--fill-color);\n",
              "    }\n",
              "    90% {\n",
              "      border-color: transparent;\n",
              "      border-bottom-color: var(--fill-color);\n",
              "    }\n",
              "  }\n",
              "</style>\n",
              "\n",
              "  <script>\n",
              "    async function quickchart(key) {\n",
              "      const quickchartButtonEl =\n",
              "        document.querySelector('#' + key + ' button');\n",
              "      quickchartButtonEl.disabled = true;  // To prevent multiple clicks.\n",
              "      quickchartButtonEl.classList.add('colab-df-spinner');\n",
              "      try {\n",
              "        const charts = await google.colab.kernel.invokeFunction(\n",
              "            'suggestCharts', [key], {});\n",
              "      } catch (error) {\n",
              "        console.error('Error during call to suggestCharts:', error);\n",
              "      }\n",
              "      quickchartButtonEl.classList.remove('colab-df-spinner');\n",
              "      quickchartButtonEl.classList.add('colab-df-quickchart-complete');\n",
              "    }\n",
              "    (() => {\n",
              "      let quickchartButtonEl =\n",
              "        document.querySelector('#df-3b4a8c3d-f3b1-4830-a1e8-ff18d40c5725 button');\n",
              "      quickchartButtonEl.style.display =\n",
              "        google.colab.kernel.accessAllowed ? 'block' : 'none';\n",
              "    })();\n",
              "  </script>\n",
              "</div>\n",
              "\n",
              "    </div>\n",
              "  </div>\n"
            ],
            "application/vnd.google.colaboratory.intrinsic+json": {
              "type": "dataframe",
              "variable_name": "df",
              "summary": "{\n  \"name\": \"df\",\n  \"rows\": 8439,\n  \"fields\": [\n    {\n      \"column\": \"text\",\n      \"properties\": {\n        \"dtype\": \"string\",\n        \"num_unique_values\": 8418,\n        \"samples\": [\n          \"My social media accounts were hacked but i have regained them. I believe the phones that were taken by DCI may have compromised my accounts. I was so busy I didn\\u2019t notice. When i finally went to my settings to check which devices are logged in, i realized suspicious activity. Some of the tweets that were made are not mine or my views. So please ignore.\",\n          \"Bro, you guys are the ones enabling these people. I\\u2019ve been on twitter long enough to know how this shit works. They run on agendas so you can\\u2019t win against that. Our religion is not so weak that we need to fight with them everyday or threaten them to defend it. They play with you guys everyday and you let them. They dish on your anger and yall keep enabling them. I repeat, our religion is not that weak that we need to fight people on twitter everyday to defend it. Hizi propaganda have been here and learn not to fall into their traps\",\n          \"I hate PDA so much\"\n        ],\n        \"semantic_type\": \"\",\n        \"description\": \"\"\n      }\n    },\n    {\n      \"column\": \"quote/text\",\n      \"properties\": {\n        \"dtype\": \"category\",\n        \"num_unique_values\": 1716,\n        \"samples\": [\n          \"that girl with brown eyes who has a nose piercing will save you btw\",\n          \"Chang Barak!\\n\\nStabex, a fuel company allegedly owned by Kenyan President William Ruto through proxies, bags multimillion dollar lucrative oil and petroleum supply deal with the Kenya Defense Forces. Ruto &amp; Stabex Company are facing an environmental degradation scandal in Uganda. https://t.co/Vj3gQgzens\",\n          \"A report by the Public Eye, a Swiss investigative organisation has revealed that Nestl\\u00e9 adds sugar and honey to infant milk and cereal products sold in many poorer countries. \\n\\nThe organisation sent samples of the baby-food products sold in Asia, Africa and Latin America to a Belgian laboratory for testing, and the result revealed added sugar in the form of sucrose or honey in samples of Nido, a follow-up milk formula brand intended for use for infants aged one and above, and Cerelac, a cereal aimed at children aged between six months and two years.\\n\\n \\u201cNestl\\u00e9 must put an end to these dangerous double standards and stop adding sugar in all products for children under three years old, in every part of the world.\\u201d via @guardian\"\n        ],\n        \"semantic_type\": \"\",\n        \"description\": \"\"\n      }\n    },\n    {\n      \"column\": \"author/description\",\n      \"properties\": {\n        \"dtype\": \"category\",\n        \"num_unique_values\": 3,\n        \"samples\": [\n          \"Print journalist? I write | Yes,in my mundane, humdrum existence| |Red Army \\ud83d\\udd34\\ud83d\\udd34 dubnation\\ud83d\\udd90 #IwillendFGM @mazingiramov\",\n          \"As INJECT Party Leader, I carry the burden of inspiring broken people.\",\n          \"President of The Republic of Kenya.\"\n        ],\n        \"semantic_type\": \"\",\n        \"description\": \"\"\n      }\n    },\n    {\n      \"column\": \"author/followers\",\n      \"properties\": {\n        \"dtype\": \"number\",\n        \"std\": 2582099,\n        \"min\": 281468,\n        \"max\": 6891058,\n        \"num_unique_values\": 33,\n        \"samples\": [\n          6890803,\n          291610,\n          6890886\n        ],\n        \"semantic_type\": \"\",\n        \"description\": \"\"\n      }\n    },\n    {\n      \"column\": \"author/favouritesCount\",\n      \"properties\": {\n        \"dtype\": \"number\",\n        \"std\": 19993,\n        \"min\": 144,\n        \"max\": 43566,\n        \"num_unique_values\": 5,\n        \"samples\": [\n          43565,\n          144,\n          1982\n        ],\n        \"semantic_type\": \"\",\n        \"description\": \"\"\n      }\n    },\n    {\n      \"column\": \"author/createdAt\",\n      \"properties\": {\n        \"dtype\": \"object\",\n        \"num_unique_values\": 3,\n        \"samples\": [\n          \"Tue Mar 27 14:15:56 +0000 2018\",\n          \"Fri Jul 04 22:08:46 +0000 2014\",\n          \"Tue Jul 12 09:42:26 +0000 2011\"\n        ],\n        \"semantic_type\": \"\",\n        \"description\": \"\"\n      }\n    },\n    {\n      \"column\": \"source\",\n      \"properties\": {\n        \"dtype\": \"category\",\n        \"num_unique_values\": 5,\n        \"samples\": [\n          \"Twitter Web App\",\n          \"Periscope\",\n          \"Twitter for Android\"\n        ],\n        \"semantic_type\": \"\",\n        \"description\": \"\"\n      }\n    },\n    {\n      \"column\": \"quote/viewCount\",\n      \"properties\": {\n        \"dtype\": \"number\",\n        \"std\": 4581484.713217931,\n        \"min\": 1507.0,\n        \"max\": 165799086.0,\n        \"num_unique_values\": 1768,\n        \"samples\": [\n          1047851.0,\n          87143.0,\n          147674.0\n        ],\n        \"semantic_type\": \"\",\n        \"description\": \"\"\n      }\n    },\n    {\n      \"column\": \"quoteCount\",\n      \"properties\": {\n        \"dtype\": \"number\",\n        \"std\": 65,\n        \"min\": 0,\n        \"max\": 2027,\n        \"num_unique_values\": 287,\n        \"samples\": [\n          5,\n          1146,\n          85\n        ],\n        \"semantic_type\": \"\",\n        \"description\": \"\"\n      }\n    },\n    {\n      \"column\": \"twitterUrl\",\n      \"properties\": {\n        \"dtype\": \"string\",\n        \"num_unique_values\": 8166,\n        \"samples\": [\n          \"https://twitter.com/Honeyfarsafi/status/1865013035556807042\",\n          \"https://twitter.com/Honeyfarsafi/status/1782470910491979852\",\n          \"https://twitter.com/Honeyfarsafi/status/1822356448099066268\"\n        ],\n        \"semantic_type\": \"\",\n        \"description\": \"\"\n      }\n    },\n    {\n      \"column\": \"type\",\n      \"properties\": {\n        \"dtype\": \"category\",\n        \"num_unique_values\": 1,\n        \"samples\": [\n          \"tweet\"\n        ],\n        \"semantic_type\": \"\",\n        \"description\": \"\"\n      }\n    },\n    {\n      \"column\": \"url\",\n      \"properties\": {\n        \"dtype\": \"string\",\n        \"num_unique_values\": 8439,\n        \"samples\": [\n          \"https://x.com/WilliamsRuto/status/1786295074088698140\"\n        ],\n        \"semantic_type\": \"\",\n        \"description\": \"\"\n      }\n    },\n    {\n      \"column\": \"createdAt\",\n      \"properties\": {\n        \"dtype\": \"object\",\n        \"num_unique_values\": 8437,\n        \"samples\": [\n          \"Tue Dec 24 07:40:55 +0000 2024\"\n        ],\n        \"semantic_type\": \"\",\n        \"description\": \"\"\n      }\n    },\n    {\n      \"column\": \"author/location\",\n      \"properties\": {\n        \"dtype\": \"category\",\n        \"num_unique_values\": 2,\n        \"samples\": [\n          \"Kenya\"\n        ],\n        \"semantic_type\": \"\",\n        \"description\": \"\"\n      }\n    },\n    {\n      \"column\": \"retweetCount\",\n      \"properties\": {\n        \"dtype\": \"number\",\n        \"std\": 1120.8758644151887,\n        \"min\": 0.0,\n        \"max\": 17861.0,\n        \"num_unique_values\": 1736,\n        \"samples\": [\n          1762.0\n        ],\n        \"semantic_type\": \"\",\n        \"description\": \"\"\n      }\n    },\n    {\n      \"column\": \"replyCount\",\n      \"properties\": {\n        \"dtype\": \"number\",\n        \"std\": 362.17309265860484,\n        \"min\": 0.0,\n        \"max\": 9414.0,\n        \"num_unique_values\": 796,\n        \"samples\": [\n          834.0\n        ],\n        \"semantic_type\": \"\",\n        \"description\": \"\"\n      }\n    },\n    {\n      \"column\": \"likeCount\",\n      \"properties\": {\n        \"dtype\": \"number\",\n        \"std\": 3700.4182571323263,\n        \"min\": 0.0,\n        \"max\": 40058.0,\n        \"num_unique_values\": 3138,\n        \"samples\": [\n          4639.0\n        ],\n        \"semantic_type\": \"\",\n        \"description\": \"\"\n      }\n    }\n  ]\n}"
            }
          },
          "metadata": {},
          "execution_count": 2
        }
      ],
      "source": [
        "path = 'indigenous_data.csv'\n",
        "df = pd.read_csv(path)\n",
        "df.head()"
      ]
    },
    {
      "cell_type": "code",
      "execution_count": 3,
      "metadata": {
        "colab": {
          "base_uri": "https://localhost:8080/"
        },
        "id": "Od1V02au1WCX",
        "outputId": "44795e95-2924-4552-ac56-b18038615cf8"
      },
      "outputs": [
        {
          "output_type": "stream",
          "name": "stdout",
          "text": [
            "<class 'pandas.core.frame.DataFrame'>\n",
            "RangeIndex: 8439 entries, 0 to 8438\n",
            "Data columns (total 17 columns):\n",
            " #   Column                  Non-Null Count  Dtype  \n",
            "---  ------                  --------------  -----  \n",
            " 0   text                    8439 non-null   object \n",
            " 1   quote/text              1765 non-null   object \n",
            " 2   author/description      8439 non-null   object \n",
            " 3   author/followers        8439 non-null   int64  \n",
            " 4   author/favouritesCount  8439 non-null   int64  \n",
            " 5   author/createdAt        8439 non-null   object \n",
            " 6   source                  8439 non-null   object \n",
            " 7   quote/viewCount         1811 non-null   float64\n",
            " 8   quoteCount              8439 non-null   int64  \n",
            " 9   twitterUrl              8166 non-null   object \n",
            " 10  type                    8439 non-null   object \n",
            " 11  url                     8439 non-null   object \n",
            " 12  createdAt               8439 non-null   object \n",
            " 13  author/location         8439 non-null   object \n",
            " 14  retweetCount            7813 non-null   float64\n",
            " 15  replyCount              7317 non-null   float64\n",
            " 16  likeCount               7460 non-null   float64\n",
            "dtypes: float64(4), int64(3), object(10)\n",
            "memory usage: 1.1+ MB\n"
          ]
        }
      ],
      "source": [
        "df.info()"
      ]
    },
    {
      "cell_type": "code",
      "execution_count": 4,
      "metadata": {
        "colab": {
          "base_uri": "https://localhost:8080/"
        },
        "id": "OdFuoLZ91bYs",
        "outputId": "d310089c-bead-4259-8768-6f0cdeced53d"
      },
      "outputs": [
        {
          "output_type": "execute_result",
          "data": {
            "text/plain": [
              "Index(['text', 'quote/text', 'author/description', 'author/followers',\n",
              "       'author/favouritesCount', 'author/createdAt', 'source',\n",
              "       'quote/viewCount', 'quoteCount', 'twitterUrl', 'type', 'url',\n",
              "       'createdAt', 'author/location', 'retweetCount', 'replyCount',\n",
              "       'likeCount'],\n",
              "      dtype='object')"
            ]
          },
          "metadata": {},
          "execution_count": 4
        }
      ],
      "source": [
        "df.columns"
      ]
    },
    {
      "cell_type": "code",
      "execution_count": 5,
      "metadata": {
        "colab": {
          "base_uri": "https://localhost:8080/",
          "height": 617
        },
        "id": "Hvw2mG621e_G",
        "outputId": "60942dbd-6d8d-467a-9196-2fd9eec6a649"
      },
      "outputs": [
        {
          "output_type": "execute_result",
          "data": {
            "text/plain": [
              "text                         0\n",
              "quote/text                6674\n",
              "author/description           0\n",
              "author/followers             0\n",
              "author/favouritesCount       0\n",
              "author/createdAt             0\n",
              "source                       0\n",
              "quote/viewCount           6628\n",
              "quoteCount                   0\n",
              "twitterUrl                 273\n",
              "type                         0\n",
              "url                          0\n",
              "createdAt                    0\n",
              "author/location              0\n",
              "retweetCount               626\n",
              "replyCount                1122\n",
              "likeCount                  979\n",
              "dtype: int64"
            ],
            "text/html": [
              "<div>\n",
              "<style scoped>\n",
              "    .dataframe tbody tr th:only-of-type {\n",
              "        vertical-align: middle;\n",
              "    }\n",
              "\n",
              "    .dataframe tbody tr th {\n",
              "        vertical-align: top;\n",
              "    }\n",
              "\n",
              "    .dataframe thead th {\n",
              "        text-align: right;\n",
              "    }\n",
              "</style>\n",
              "<table border=\"1\" class=\"dataframe\">\n",
              "  <thead>\n",
              "    <tr style=\"text-align: right;\">\n",
              "      <th></th>\n",
              "      <th>0</th>\n",
              "    </tr>\n",
              "  </thead>\n",
              "  <tbody>\n",
              "    <tr>\n",
              "      <th>text</th>\n",
              "      <td>0</td>\n",
              "    </tr>\n",
              "    <tr>\n",
              "      <th>quote/text</th>\n",
              "      <td>6674</td>\n",
              "    </tr>\n",
              "    <tr>\n",
              "      <th>author/description</th>\n",
              "      <td>0</td>\n",
              "    </tr>\n",
              "    <tr>\n",
              "      <th>author/followers</th>\n",
              "      <td>0</td>\n",
              "    </tr>\n",
              "    <tr>\n",
              "      <th>author/favouritesCount</th>\n",
              "      <td>0</td>\n",
              "    </tr>\n",
              "    <tr>\n",
              "      <th>author/createdAt</th>\n",
              "      <td>0</td>\n",
              "    </tr>\n",
              "    <tr>\n",
              "      <th>source</th>\n",
              "      <td>0</td>\n",
              "    </tr>\n",
              "    <tr>\n",
              "      <th>quote/viewCount</th>\n",
              "      <td>6628</td>\n",
              "    </tr>\n",
              "    <tr>\n",
              "      <th>quoteCount</th>\n",
              "      <td>0</td>\n",
              "    </tr>\n",
              "    <tr>\n",
              "      <th>twitterUrl</th>\n",
              "      <td>273</td>\n",
              "    </tr>\n",
              "    <tr>\n",
              "      <th>type</th>\n",
              "      <td>0</td>\n",
              "    </tr>\n",
              "    <tr>\n",
              "      <th>url</th>\n",
              "      <td>0</td>\n",
              "    </tr>\n",
              "    <tr>\n",
              "      <th>createdAt</th>\n",
              "      <td>0</td>\n",
              "    </tr>\n",
              "    <tr>\n",
              "      <th>author/location</th>\n",
              "      <td>0</td>\n",
              "    </tr>\n",
              "    <tr>\n",
              "      <th>retweetCount</th>\n",
              "      <td>626</td>\n",
              "    </tr>\n",
              "    <tr>\n",
              "      <th>replyCount</th>\n",
              "      <td>1122</td>\n",
              "    </tr>\n",
              "    <tr>\n",
              "      <th>likeCount</th>\n",
              "      <td>979</td>\n",
              "    </tr>\n",
              "  </tbody>\n",
              "</table>\n",
              "</div><br><label><b>dtype:</b> int64</label>"
            ]
          },
          "metadata": {},
          "execution_count": 5
        }
      ],
      "source": [
        "df.isnull().sum()"
      ]
    },
    {
      "cell_type": "code",
      "execution_count": 6,
      "metadata": {
        "colab": {
          "base_uri": "https://localhost:8080/"
        },
        "id": "-bNSHbTp1gk1",
        "outputId": "eaed6e1b-4600-407f-e171-1a52d2153922"
      },
      "outputs": [
        {
          "output_type": "stream",
          "name": "stdout",
          "text": [
            "quote/text                79.085200\n",
            "quote/viewCount           78.540111\n",
            "replyCount                13.295414\n",
            "likeCount                 11.600901\n",
            "retweetCount               7.417941\n",
            "twitterUrl                 3.234980\n",
            "type                       0.000000\n",
            "author/location            0.000000\n",
            "createdAt                  0.000000\n",
            "url                        0.000000\n",
            "text                       0.000000\n",
            "source                     0.000000\n",
            "author/createdAt           0.000000\n",
            "author/favouritesCount     0.000000\n",
            "author/followers           0.000000\n",
            "author/description         0.000000\n",
            "quoteCount                 0.000000\n",
            "dtype: float64\n"
          ]
        }
      ],
      "source": [
        "missing_percentages = df.isnull().mean() * 100\n",
        "sorted_missing_percentages = missing_percentages.sort_values(ascending=False)\n",
        "\n",
        "print(sorted_missing_percentages)"
      ]
    },
    {
      "cell_type": "code",
      "execution_count": 7,
      "metadata": {
        "colab": {
          "base_uri": "https://localhost:8080/",
          "height": 300
        },
        "id": "IJkWhozc2BCb",
        "outputId": "c794ecfc-9226-4af1-f19c-3d2cf2e287bc"
      },
      "outputs": [
        {
          "output_type": "execute_result",
          "data": {
            "text/plain": [
              "       author/followers  author/favouritesCount  quote/viewCount   quoteCount  \\\n",
              "count      8.439000e+03             8439.000000     1.811000e+03  8439.000000   \n",
              "mean       1.525786e+06            29674.413082     6.190885e+05    19.195047   \n",
              "std        2.582100e+06            19993.504623     4.581485e+06    65.585972   \n",
              "min        2.814680e+05              144.000000     1.507000e+03     0.000000   \n",
              "25%        2.814770e+05             1983.000000     2.913950e+04     0.000000   \n",
              "50%        2.814880e+05            43566.000000     1.033040e+05     2.000000   \n",
              "75%        2.916100e+05            43566.000000     2.972975e+05    13.000000   \n",
              "max        6.891058e+06            43566.000000     1.657991e+08  2027.000000   \n",
              "\n",
              "       retweetCount   replyCount     likeCount  \n",
              "count   7813.000000  7317.000000   7460.000000  \n",
              "mean     486.120696   133.217576   2017.008177  \n",
              "std     1120.875864   362.173093   3700.418257  \n",
              "min        0.000000     0.000000      0.000000  \n",
              "25%        2.000000     3.000000     23.000000  \n",
              "50%       66.000000    30.000000    347.000000  \n",
              "75%      331.000000   127.000000   2302.500000  \n",
              "max    17861.000000  9414.000000  40058.000000  "
            ],
            "text/html": [
              "\n",
              "  <div id=\"df-9fc44f9d-7fd4-4aa4-b660-bb7aacaf3b35\" class=\"colab-df-container\">\n",
              "    <div>\n",
              "<style scoped>\n",
              "    .dataframe tbody tr th:only-of-type {\n",
              "        vertical-align: middle;\n",
              "    }\n",
              "\n",
              "    .dataframe tbody tr th {\n",
              "        vertical-align: top;\n",
              "    }\n",
              "\n",
              "    .dataframe thead th {\n",
              "        text-align: right;\n",
              "    }\n",
              "</style>\n",
              "<table border=\"1\" class=\"dataframe\">\n",
              "  <thead>\n",
              "    <tr style=\"text-align: right;\">\n",
              "      <th></th>\n",
              "      <th>author/followers</th>\n",
              "      <th>author/favouritesCount</th>\n",
              "      <th>quote/viewCount</th>\n",
              "      <th>quoteCount</th>\n",
              "      <th>retweetCount</th>\n",
              "      <th>replyCount</th>\n",
              "      <th>likeCount</th>\n",
              "    </tr>\n",
              "  </thead>\n",
              "  <tbody>\n",
              "    <tr>\n",
              "      <th>count</th>\n",
              "      <td>8.439000e+03</td>\n",
              "      <td>8439.000000</td>\n",
              "      <td>1.811000e+03</td>\n",
              "      <td>8439.000000</td>\n",
              "      <td>7813.000000</td>\n",
              "      <td>7317.000000</td>\n",
              "      <td>7460.000000</td>\n",
              "    </tr>\n",
              "    <tr>\n",
              "      <th>mean</th>\n",
              "      <td>1.525786e+06</td>\n",
              "      <td>29674.413082</td>\n",
              "      <td>6.190885e+05</td>\n",
              "      <td>19.195047</td>\n",
              "      <td>486.120696</td>\n",
              "      <td>133.217576</td>\n",
              "      <td>2017.008177</td>\n",
              "    </tr>\n",
              "    <tr>\n",
              "      <th>std</th>\n",
              "      <td>2.582100e+06</td>\n",
              "      <td>19993.504623</td>\n",
              "      <td>4.581485e+06</td>\n",
              "      <td>65.585972</td>\n",
              "      <td>1120.875864</td>\n",
              "      <td>362.173093</td>\n",
              "      <td>3700.418257</td>\n",
              "    </tr>\n",
              "    <tr>\n",
              "      <th>min</th>\n",
              "      <td>2.814680e+05</td>\n",
              "      <td>144.000000</td>\n",
              "      <td>1.507000e+03</td>\n",
              "      <td>0.000000</td>\n",
              "      <td>0.000000</td>\n",
              "      <td>0.000000</td>\n",
              "      <td>0.000000</td>\n",
              "    </tr>\n",
              "    <tr>\n",
              "      <th>25%</th>\n",
              "      <td>2.814770e+05</td>\n",
              "      <td>1983.000000</td>\n",
              "      <td>2.913950e+04</td>\n",
              "      <td>0.000000</td>\n",
              "      <td>2.000000</td>\n",
              "      <td>3.000000</td>\n",
              "      <td>23.000000</td>\n",
              "    </tr>\n",
              "    <tr>\n",
              "      <th>50%</th>\n",
              "      <td>2.814880e+05</td>\n",
              "      <td>43566.000000</td>\n",
              "      <td>1.033040e+05</td>\n",
              "      <td>2.000000</td>\n",
              "      <td>66.000000</td>\n",
              "      <td>30.000000</td>\n",
              "      <td>347.000000</td>\n",
              "    </tr>\n",
              "    <tr>\n",
              "      <th>75%</th>\n",
              "      <td>2.916100e+05</td>\n",
              "      <td>43566.000000</td>\n",
              "      <td>2.972975e+05</td>\n",
              "      <td>13.000000</td>\n",
              "      <td>331.000000</td>\n",
              "      <td>127.000000</td>\n",
              "      <td>2302.500000</td>\n",
              "    </tr>\n",
              "    <tr>\n",
              "      <th>max</th>\n",
              "      <td>6.891058e+06</td>\n",
              "      <td>43566.000000</td>\n",
              "      <td>1.657991e+08</td>\n",
              "      <td>2027.000000</td>\n",
              "      <td>17861.000000</td>\n",
              "      <td>9414.000000</td>\n",
              "      <td>40058.000000</td>\n",
              "    </tr>\n",
              "  </tbody>\n",
              "</table>\n",
              "</div>\n",
              "    <div class=\"colab-df-buttons\">\n",
              "\n",
              "  <div class=\"colab-df-container\">\n",
              "    <button class=\"colab-df-convert\" onclick=\"convertToInteractive('df-9fc44f9d-7fd4-4aa4-b660-bb7aacaf3b35')\"\n",
              "            title=\"Convert this dataframe to an interactive table.\"\n",
              "            style=\"display:none;\">\n",
              "\n",
              "  <svg xmlns=\"http://www.w3.org/2000/svg\" height=\"24px\" viewBox=\"0 -960 960 960\">\n",
              "    <path d=\"M120-120v-720h720v720H120Zm60-500h600v-160H180v160Zm220 220h160v-160H400v160Zm0 220h160v-160H400v160ZM180-400h160v-160H180v160Zm440 0h160v-160H620v160ZM180-180h160v-160H180v160Zm440 0h160v-160H620v160Z\"/>\n",
              "  </svg>\n",
              "    </button>\n",
              "\n",
              "  <style>\n",
              "    .colab-df-container {\n",
              "      display:flex;\n",
              "      gap: 12px;\n",
              "    }\n",
              "\n",
              "    .colab-df-convert {\n",
              "      background-color: #E8F0FE;\n",
              "      border: none;\n",
              "      border-radius: 50%;\n",
              "      cursor: pointer;\n",
              "      display: none;\n",
              "      fill: #1967D2;\n",
              "      height: 32px;\n",
              "      padding: 0 0 0 0;\n",
              "      width: 32px;\n",
              "    }\n",
              "\n",
              "    .colab-df-convert:hover {\n",
              "      background-color: #E2EBFA;\n",
              "      box-shadow: 0px 1px 2px rgba(60, 64, 67, 0.3), 0px 1px 3px 1px rgba(60, 64, 67, 0.15);\n",
              "      fill: #174EA6;\n",
              "    }\n",
              "\n",
              "    .colab-df-buttons div {\n",
              "      margin-bottom: 4px;\n",
              "    }\n",
              "\n",
              "    [theme=dark] .colab-df-convert {\n",
              "      background-color: #3B4455;\n",
              "      fill: #D2E3FC;\n",
              "    }\n",
              "\n",
              "    [theme=dark] .colab-df-convert:hover {\n",
              "      background-color: #434B5C;\n",
              "      box-shadow: 0px 1px 3px 1px rgba(0, 0, 0, 0.15);\n",
              "      filter: drop-shadow(0px 1px 2px rgba(0, 0, 0, 0.3));\n",
              "      fill: #FFFFFF;\n",
              "    }\n",
              "  </style>\n",
              "\n",
              "    <script>\n",
              "      const buttonEl =\n",
              "        document.querySelector('#df-9fc44f9d-7fd4-4aa4-b660-bb7aacaf3b35 button.colab-df-convert');\n",
              "      buttonEl.style.display =\n",
              "        google.colab.kernel.accessAllowed ? 'block' : 'none';\n",
              "\n",
              "      async function convertToInteractive(key) {\n",
              "        const element = document.querySelector('#df-9fc44f9d-7fd4-4aa4-b660-bb7aacaf3b35');\n",
              "        const dataTable =\n",
              "          await google.colab.kernel.invokeFunction('convertToInteractive',\n",
              "                                                    [key], {});\n",
              "        if (!dataTable) return;\n",
              "\n",
              "        const docLinkHtml = 'Like what you see? Visit the ' +\n",
              "          '<a target=\"_blank\" href=https://colab.research.google.com/notebooks/data_table.ipynb>data table notebook</a>'\n",
              "          + ' to learn more about interactive tables.';\n",
              "        element.innerHTML = '';\n",
              "        dataTable['output_type'] = 'display_data';\n",
              "        await google.colab.output.renderOutput(dataTable, element);\n",
              "        const docLink = document.createElement('div');\n",
              "        docLink.innerHTML = docLinkHtml;\n",
              "        element.appendChild(docLink);\n",
              "      }\n",
              "    </script>\n",
              "  </div>\n",
              "\n",
              "\n",
              "<div id=\"df-f381fc11-e8a0-49ed-8a37-010e964ba641\">\n",
              "  <button class=\"colab-df-quickchart\" onclick=\"quickchart('df-f381fc11-e8a0-49ed-8a37-010e964ba641')\"\n",
              "            title=\"Suggest charts\"\n",
              "            style=\"display:none;\">\n",
              "\n",
              "<svg xmlns=\"http://www.w3.org/2000/svg\" height=\"24px\"viewBox=\"0 0 24 24\"\n",
              "     width=\"24px\">\n",
              "    <g>\n",
              "        <path d=\"M19 3H5c-1.1 0-2 .9-2 2v14c0 1.1.9 2 2 2h14c1.1 0 2-.9 2-2V5c0-1.1-.9-2-2-2zM9 17H7v-7h2v7zm4 0h-2V7h2v10zm4 0h-2v-4h2v4z\"/>\n",
              "    </g>\n",
              "</svg>\n",
              "  </button>\n",
              "\n",
              "<style>\n",
              "  .colab-df-quickchart {\n",
              "      --bg-color: #E8F0FE;\n",
              "      --fill-color: #1967D2;\n",
              "      --hover-bg-color: #E2EBFA;\n",
              "      --hover-fill-color: #174EA6;\n",
              "      --disabled-fill-color: #AAA;\n",
              "      --disabled-bg-color: #DDD;\n",
              "  }\n",
              "\n",
              "  [theme=dark] .colab-df-quickchart {\n",
              "      --bg-color: #3B4455;\n",
              "      --fill-color: #D2E3FC;\n",
              "      --hover-bg-color: #434B5C;\n",
              "      --hover-fill-color: #FFFFFF;\n",
              "      --disabled-bg-color: #3B4455;\n",
              "      --disabled-fill-color: #666;\n",
              "  }\n",
              "\n",
              "  .colab-df-quickchart {\n",
              "    background-color: var(--bg-color);\n",
              "    border: none;\n",
              "    border-radius: 50%;\n",
              "    cursor: pointer;\n",
              "    display: none;\n",
              "    fill: var(--fill-color);\n",
              "    height: 32px;\n",
              "    padding: 0;\n",
              "    width: 32px;\n",
              "  }\n",
              "\n",
              "  .colab-df-quickchart:hover {\n",
              "    background-color: var(--hover-bg-color);\n",
              "    box-shadow: 0 1px 2px rgba(60, 64, 67, 0.3), 0 1px 3px 1px rgba(60, 64, 67, 0.15);\n",
              "    fill: var(--button-hover-fill-color);\n",
              "  }\n",
              "\n",
              "  .colab-df-quickchart-complete:disabled,\n",
              "  .colab-df-quickchart-complete:disabled:hover {\n",
              "    background-color: var(--disabled-bg-color);\n",
              "    fill: var(--disabled-fill-color);\n",
              "    box-shadow: none;\n",
              "  }\n",
              "\n",
              "  .colab-df-spinner {\n",
              "    border: 2px solid var(--fill-color);\n",
              "    border-color: transparent;\n",
              "    border-bottom-color: var(--fill-color);\n",
              "    animation:\n",
              "      spin 1s steps(1) infinite;\n",
              "  }\n",
              "\n",
              "  @keyframes spin {\n",
              "    0% {\n",
              "      border-color: transparent;\n",
              "      border-bottom-color: var(--fill-color);\n",
              "      border-left-color: var(--fill-color);\n",
              "    }\n",
              "    20% {\n",
              "      border-color: transparent;\n",
              "      border-left-color: var(--fill-color);\n",
              "      border-top-color: var(--fill-color);\n",
              "    }\n",
              "    30% {\n",
              "      border-color: transparent;\n",
              "      border-left-color: var(--fill-color);\n",
              "      border-top-color: var(--fill-color);\n",
              "      border-right-color: var(--fill-color);\n",
              "    }\n",
              "    40% {\n",
              "      border-color: transparent;\n",
              "      border-right-color: var(--fill-color);\n",
              "      border-top-color: var(--fill-color);\n",
              "    }\n",
              "    60% {\n",
              "      border-color: transparent;\n",
              "      border-right-color: var(--fill-color);\n",
              "    }\n",
              "    80% {\n",
              "      border-color: transparent;\n",
              "      border-right-color: var(--fill-color);\n",
              "      border-bottom-color: var(--fill-color);\n",
              "    }\n",
              "    90% {\n",
              "      border-color: transparent;\n",
              "      border-bottom-color: var(--fill-color);\n",
              "    }\n",
              "  }\n",
              "</style>\n",
              "\n",
              "  <script>\n",
              "    async function quickchart(key) {\n",
              "      const quickchartButtonEl =\n",
              "        document.querySelector('#' + key + ' button');\n",
              "      quickchartButtonEl.disabled = true;  // To prevent multiple clicks.\n",
              "      quickchartButtonEl.classList.add('colab-df-spinner');\n",
              "      try {\n",
              "        const charts = await google.colab.kernel.invokeFunction(\n",
              "            'suggestCharts', [key], {});\n",
              "      } catch (error) {\n",
              "        console.error('Error during call to suggestCharts:', error);\n",
              "      }\n",
              "      quickchartButtonEl.classList.remove('colab-df-spinner');\n",
              "      quickchartButtonEl.classList.add('colab-df-quickchart-complete');\n",
              "    }\n",
              "    (() => {\n",
              "      let quickchartButtonEl =\n",
              "        document.querySelector('#df-f381fc11-e8a0-49ed-8a37-010e964ba641 button');\n",
              "      quickchartButtonEl.style.display =\n",
              "        google.colab.kernel.accessAllowed ? 'block' : 'none';\n",
              "    })();\n",
              "  </script>\n",
              "</div>\n",
              "\n",
              "    </div>\n",
              "  </div>\n"
            ],
            "application/vnd.google.colaboratory.intrinsic+json": {
              "type": "dataframe",
              "summary": "{\n  \"name\": \"df\",\n  \"rows\": 8,\n  \"fields\": [\n    {\n      \"column\": \"author/followers\",\n      \"properties\": {\n        \"dtype\": \"number\",\n        \"std\": 2341302.7647279426,\n        \"min\": 8439.0,\n        \"max\": 6891058.0,\n        \"num_unique_values\": 8,\n        \"samples\": [\n          1525786.1581940989,\n          281488.0,\n          8439.0\n        ],\n        \"semantic_type\": \"\",\n        \"description\": \"\"\n      }\n    },\n    {\n      \"column\": \"author/favouritesCount\",\n      \"properties\": {\n        \"dtype\": \"number\",\n        \"std\": 18870.215318098028,\n        \"min\": 144.0,\n        \"max\": 43566.0,\n        \"num_unique_values\": 6,\n        \"samples\": [\n          8439.0,\n          29674.413082118735,\n          43566.0\n        ],\n        \"semantic_type\": \"\",\n        \"description\": \"\"\n      }\n    },\n    {\n      \"column\": \"quote/viewCount\",\n      \"properties\": {\n        \"dtype\": \"number\",\n        \"std\": 58355025.48547904,\n        \"min\": 1507.0,\n        \"max\": 165799086.0,\n        \"num_unique_values\": 8,\n        \"samples\": [\n          619088.4577581447,\n          103304.0,\n          1811.0\n        ],\n        \"semantic_type\": \"\",\n        \"description\": \"\"\n      }\n    },\n    {\n      \"column\": \"quoteCount\",\n      \"properties\": {\n        \"dtype\": \"number\",\n        \"std\": 2961.076708212801,\n        \"min\": 0.0,\n        \"max\": 8439.0,\n        \"num_unique_values\": 7,\n        \"samples\": [\n          8439.0,\n          19.19504680649366,\n          13.0\n        ],\n        \"semantic_type\": \"\",\n        \"description\": \"\"\n      }\n    },\n    {\n      \"column\": \"retweetCount\",\n      \"properties\": {\n        \"dtype\": \"number\",\n        \"std\": 6390.753486034057,\n        \"min\": 0.0,\n        \"max\": 17861.0,\n        \"num_unique_values\": 8,\n        \"samples\": [\n          486.1206962754384,\n          66.0,\n          7813.0\n        ],\n        \"semantic_type\": \"\",\n        \"description\": \"\"\n      }\n    },\n    {\n      \"column\": \"replyCount\",\n      \"properties\": {\n        \"dtype\": \"number\",\n        \"std\": 3864.527631699855,\n        \"min\": 0.0,\n        \"max\": 9414.0,\n        \"num_unique_values\": 8,\n        \"samples\": [\n          133.21757550908842,\n          30.0,\n          7317.0\n        ],\n        \"semantic_type\": \"\",\n        \"description\": \"\"\n      }\n    },\n    {\n      \"column\": \"likeCount\",\n      \"properties\": {\n        \"dtype\": \"number\",\n        \"std\": 13589.737702418892,\n        \"min\": 0.0,\n        \"max\": 40058.0,\n        \"num_unique_values\": 8,\n        \"samples\": [\n          2017.0081769436997,\n          347.0,\n          7460.0\n        ],\n        \"semantic_type\": \"\",\n        \"description\": \"\"\n      }\n    }\n  ]\n}"
            }
          },
          "metadata": {},
          "execution_count": 7
        }
      ],
      "source": [
        "df.describe()"
      ]
    },
    {
      "cell_type": "markdown",
      "metadata": {
        "id": "Y7Qn7O1rC7SA"
      },
      "source": [
        "## Data cleaning"
      ]
    },
    {
      "cell_type": "code",
      "execution_count": 8,
      "metadata": {
        "colab": {
          "base_uri": "https://localhost:8080/"
        },
        "id": "FlmniLzW2IE0",
        "outputId": "051c21a8-cf22-4450-dc98-e44e4b776237"
      },
      "outputs": [
        {
          "output_type": "stream",
          "name": "stderr",
          "text": [
            "[nltk_data] Downloading package stopwords to /root/nltk_data...\n",
            "[nltk_data]   Unzipping corpora/stopwords.zip.\n"
          ]
        }
      ],
      "source": [
        "# Load stopwords\n",
        "nltk.download('stopwords')\n",
        "stop_words = set(stopwords.words('english'))\n",
        "\n",
        "def clean_text(text):\n",
        "    \"\"\"\n",
        "    Cleans the input text by:\n",
        "    - Removing URLs\n",
        "    - Removing special characters and numbers\n",
        "    - Converting to lowercase\n",
        "    - Removing punctuation\n",
        "    - Removing stopwords\n",
        "    \"\"\"\n",
        "    # Remove URLs\n",
        "    text = str(text)\n",
        "    text = re.sub(r'http\\S+|www.\\S+th', '', text)\n",
        "\n",
        "    # Remove special characters and numbers\n",
        "    text = re.sub(r'[^A-Za-z\\s]', '', text)\n",
        "\n",
        "    # Convert to lowercase\n",
        "    text = text.lower()\n",
        "\n",
        "    # Tokenize and remove stopwords\n",
        "    text = ' '.join(word for word in text.split() if word not in stop_words)\n",
        "\n",
        "    return text"
      ]
    },
    {
      "cell_type": "code",
      "execution_count": 9,
      "metadata": {
        "id": "3Z0GADG9XgPN",
        "colab": {
          "base_uri": "https://localhost:8080/",
          "height": 547
        },
        "outputId": "0f47eaac-3243-4699-f670-26c1a6045fb9"
      },
      "outputs": [
        {
          "output_type": "error",
          "ename": "KeyError",
          "evalue": "'author/twitterUrl'",
          "traceback": [
            "\u001b[0;31m---------------------------------------------------------------------------\u001b[0m",
            "\u001b[0;31mKeyError\u001b[0m                                  Traceback (most recent call last)",
            "\u001b[0;32m/usr/local/lib/python3.11/dist-packages/pandas/core/indexes/base.py\u001b[0m in \u001b[0;36mget_loc\u001b[0;34m(self, key)\u001b[0m\n\u001b[1;32m   3804\u001b[0m         \u001b[0;32mtry\u001b[0m\u001b[0;34m:\u001b[0m\u001b[0;34m\u001b[0m\u001b[0;34m\u001b[0m\u001b[0m\n\u001b[0;32m-> 3805\u001b[0;31m             \u001b[0;32mreturn\u001b[0m \u001b[0mself\u001b[0m\u001b[0;34m.\u001b[0m\u001b[0m_engine\u001b[0m\u001b[0;34m.\u001b[0m\u001b[0mget_loc\u001b[0m\u001b[0;34m(\u001b[0m\u001b[0mcasted_key\u001b[0m\u001b[0;34m)\u001b[0m\u001b[0;34m\u001b[0m\u001b[0;34m\u001b[0m\u001b[0m\n\u001b[0m\u001b[1;32m   3806\u001b[0m         \u001b[0;32mexcept\u001b[0m \u001b[0mKeyError\u001b[0m \u001b[0;32mas\u001b[0m \u001b[0merr\u001b[0m\u001b[0;34m:\u001b[0m\u001b[0;34m\u001b[0m\u001b[0;34m\u001b[0m\u001b[0m\n",
            "\u001b[0;32mindex.pyx\u001b[0m in \u001b[0;36mpandas._libs.index.IndexEngine.get_loc\u001b[0;34m()\u001b[0m\n",
            "\u001b[0;32mindex.pyx\u001b[0m in \u001b[0;36mpandas._libs.index.IndexEngine.get_loc\u001b[0;34m()\u001b[0m\n",
            "\u001b[0;32mpandas/_libs/hashtable_class_helper.pxi\u001b[0m in \u001b[0;36mpandas._libs.hashtable.PyObjectHashTable.get_item\u001b[0;34m()\u001b[0m\n",
            "\u001b[0;32mpandas/_libs/hashtable_class_helper.pxi\u001b[0m in \u001b[0;36mpandas._libs.hashtable.PyObjectHashTable.get_item\u001b[0;34m()\u001b[0m\n",
            "\u001b[0;31mKeyError\u001b[0m: 'author/twitterUrl'",
            "\nThe above exception was the direct cause of the following exception:\n",
            "\u001b[0;31mKeyError\u001b[0m                                  Traceback (most recent call last)",
            "\u001b[0;32m<ipython-input-9-2236617fd4eb>\u001b[0m in \u001b[0;36m<cell line: 0>\u001b[0;34m()\u001b[0m\n\u001b[1;32m      7\u001b[0m \u001b[0;34m\u001b[0m\u001b[0m\n\u001b[1;32m      8\u001b[0m \u001b[0;31m# Replace the URLs with the corresponding names\u001b[0m\u001b[0;34m\u001b[0m\u001b[0;34m\u001b[0m\u001b[0m\n\u001b[0;32m----> 9\u001b[0;31m \u001b[0mdf\u001b[0m\u001b[0;34m[\u001b[0m\u001b[0;34m'users'\u001b[0m\u001b[0;34m]\u001b[0m \u001b[0;34m=\u001b[0m \u001b[0mdf\u001b[0m\u001b[0;34m[\u001b[0m\u001b[0;34m'author/twitterUrl'\u001b[0m\u001b[0;34m]\u001b[0m\u001b[0;34m.\u001b[0m\u001b[0mreplace\u001b[0m\u001b[0;34m(\u001b[0m\u001b[0murl_mapping\u001b[0m\u001b[0;34m)\u001b[0m\u001b[0;34m\u001b[0m\u001b[0;34m\u001b[0m\u001b[0m\n\u001b[0m",
            "\u001b[0;32m/usr/local/lib/python3.11/dist-packages/pandas/core/frame.py\u001b[0m in \u001b[0;36m__getitem__\u001b[0;34m(self, key)\u001b[0m\n\u001b[1;32m   4100\u001b[0m             \u001b[0;32mif\u001b[0m \u001b[0mself\u001b[0m\u001b[0;34m.\u001b[0m\u001b[0mcolumns\u001b[0m\u001b[0;34m.\u001b[0m\u001b[0mnlevels\u001b[0m \u001b[0;34m>\u001b[0m \u001b[0;36m1\u001b[0m\u001b[0;34m:\u001b[0m\u001b[0;34m\u001b[0m\u001b[0;34m\u001b[0m\u001b[0m\n\u001b[1;32m   4101\u001b[0m                 \u001b[0;32mreturn\u001b[0m \u001b[0mself\u001b[0m\u001b[0;34m.\u001b[0m\u001b[0m_getitem_multilevel\u001b[0m\u001b[0;34m(\u001b[0m\u001b[0mkey\u001b[0m\u001b[0;34m)\u001b[0m\u001b[0;34m\u001b[0m\u001b[0;34m\u001b[0m\u001b[0m\n\u001b[0;32m-> 4102\u001b[0;31m             \u001b[0mindexer\u001b[0m \u001b[0;34m=\u001b[0m \u001b[0mself\u001b[0m\u001b[0;34m.\u001b[0m\u001b[0mcolumns\u001b[0m\u001b[0;34m.\u001b[0m\u001b[0mget_loc\u001b[0m\u001b[0;34m(\u001b[0m\u001b[0mkey\u001b[0m\u001b[0;34m)\u001b[0m\u001b[0;34m\u001b[0m\u001b[0;34m\u001b[0m\u001b[0m\n\u001b[0m\u001b[1;32m   4103\u001b[0m             \u001b[0;32mif\u001b[0m \u001b[0mis_integer\u001b[0m\u001b[0;34m(\u001b[0m\u001b[0mindexer\u001b[0m\u001b[0;34m)\u001b[0m\u001b[0;34m:\u001b[0m\u001b[0;34m\u001b[0m\u001b[0;34m\u001b[0m\u001b[0m\n\u001b[1;32m   4104\u001b[0m                 \u001b[0mindexer\u001b[0m \u001b[0;34m=\u001b[0m \u001b[0;34m[\u001b[0m\u001b[0mindexer\u001b[0m\u001b[0;34m]\u001b[0m\u001b[0;34m\u001b[0m\u001b[0;34m\u001b[0m\u001b[0m\n",
            "\u001b[0;32m/usr/local/lib/python3.11/dist-packages/pandas/core/indexes/base.py\u001b[0m in \u001b[0;36mget_loc\u001b[0;34m(self, key)\u001b[0m\n\u001b[1;32m   3810\u001b[0m             ):\n\u001b[1;32m   3811\u001b[0m                 \u001b[0;32mraise\u001b[0m \u001b[0mInvalidIndexError\u001b[0m\u001b[0;34m(\u001b[0m\u001b[0mkey\u001b[0m\u001b[0;34m)\u001b[0m\u001b[0;34m\u001b[0m\u001b[0;34m\u001b[0m\u001b[0m\n\u001b[0;32m-> 3812\u001b[0;31m             \u001b[0;32mraise\u001b[0m \u001b[0mKeyError\u001b[0m\u001b[0;34m(\u001b[0m\u001b[0mkey\u001b[0m\u001b[0;34m)\u001b[0m \u001b[0;32mfrom\u001b[0m \u001b[0merr\u001b[0m\u001b[0;34m\u001b[0m\u001b[0;34m\u001b[0m\u001b[0m\n\u001b[0m\u001b[1;32m   3813\u001b[0m         \u001b[0;32mexcept\u001b[0m \u001b[0mTypeError\u001b[0m\u001b[0;34m:\u001b[0m\u001b[0;34m\u001b[0m\u001b[0;34m\u001b[0m\u001b[0m\n\u001b[1;32m   3814\u001b[0m             \u001b[0;31m# If we have a listlike key, _check_indexing_error will raise\u001b[0m\u001b[0;34m\u001b[0m\u001b[0;34m\u001b[0m\u001b[0m\n",
            "\u001b[0;31mKeyError\u001b[0m: 'author/twitterUrl'"
          ]
        }
      ],
      "source": [
        "# Define the mapping of Twitter URLs to names\n",
        "url_mapping = {\n",
        "    \"https://twitter.com/Honeyfarsafi\": \"Hanifa\",\n",
        "    \"https://twitter.com/WilliamsRuto\": \"WSR\",\n",
        "    \"https://twitter.com/MoraraKebasoSnr\": \"Morara\"\n",
        "}\n",
        "\n",
        "# Replace the URLs with the corresponding names\n",
        "df['users'] = df['author/twitterUrl'].replace(url_mapping)"
      ]
    },
    {
      "cell_type": "code",
      "execution_count": null,
      "metadata": {
        "id": "ENmXC16MDvDJ"
      },
      "outputs": [],
      "source": [
        "# Apply the cleaning function\n",
        "df['cleaned_text'] = df['text'].apply(clean_text)\n"
      ]
    },
    {
      "cell_type": "code",
      "execution_count": null,
      "metadata": {
        "id": "y-4CuoUIc5fQ"
      },
      "outputs": [],
      "source": []
    },
    {
      "cell_type": "markdown",
      "metadata": {
        "id": "j9fkyH4zXwpc"
      },
      "source": [
        "## User analysis"
      ]
    },
    {
      "cell_type": "code",
      "execution_count": null,
      "metadata": {
        "id": "bUy46WdvWjUZ"
      },
      "outputs": [],
      "source": [
        "# Plot the top 10 active users\n",
        "user_activity = df['users'].value_counts()\n",
        "\n",
        "plt.figure(figsize=(10, 6))\n",
        "user_activity.head(10).plot(kind='bar', color='purple', edgecolor='black')\n",
        "plt.title('Users', fontsize=16)\n",
        "plt.xlabel('User', fontsize=12)\n",
        "plt.ylabel('Number of Tweets', fontsize=12)\n",
        "plt.xticks(rotation=45, fontsize=10)\n",
        "plt.tight_layout()\n",
        "plt.show()\n"
      ]
    },
    {
      "cell_type": "markdown",
      "metadata": {
        "id": "LV47C2FQQX7k"
      },
      "source": [
        "## Time"
      ]
    },
    {
      "cell_type": "code",
      "execution_count": null,
      "metadata": {
        "id": "9vQR5TaUQimR"
      },
      "outputs": [],
      "source": [
        "# Convert 'createdAt' to datetime and separate into date and time\n",
        "df['createdAt'] = pd.to_datetime(df['createdAt'], format='%a %b %d %H:%M:%S %z %Y')\n",
        "\n",
        "df['date'] = df['createdAt'].dt.date\n",
        "df['time'] = df['createdAt'].dt.time\n",
        "\n",
        "# Extract year, month, and day\n",
        "df['year'] = df['createdAt'].dt.year\n",
        "df['month'] = df['createdAt'].dt.month\n",
        "df['day'] = df['createdAt'].dt.day"
      ]
    },
    {
      "cell_type": "code",
      "execution_count": null,
      "metadata": {
        "id": "qlQyeyihQfLG"
      },
      "outputs": [],
      "source": [
        "# Format date as DD/MM/YYYY and time as HH:MM\n",
        "# df['date'] = df['date'].dt.strftime('%d/%m/%Y')\n",
        "# df['time'] = df['time'].dt.strftime('%H:%M')\n",
        "df[['date', 'time']]"
      ]
    },
    {
      "cell_type": "code",
      "execution_count": null,
      "metadata": {
        "id": "aGXxVb39RHoj"
      },
      "outputs": [],
      "source": [
        "df['month'].nunique()"
      ]
    },
    {
      "cell_type": "code",
      "execution_count": null,
      "metadata": {
        "id": "dBJqupkiSO9e"
      },
      "outputs": [],
      "source": [
        "# Group by date and count the number of tweets per day\n",
        "tweets_by_date = df.groupby(df['createdAt'].dt.date).size()\n",
        "\n",
        "# Plot the data\n",
        "plt.figure(figsize=(10, 6))\n",
        "tweets_by_date.plot(kind='line', marker='o', color='blue', linewidth=2)\n",
        "plt.title('Number of Tweets Over Time', fontsize=16)\n",
        "plt.xlabel('Date', fontsize=12)\n",
        "plt.ylabel('Number of Tweets', fontsize=12)\n",
        "plt.xticks(rotation=45, fontsize=10)\n",
        "plt.grid(axis='both', linestyle='--', alpha=0.7)\n",
        "plt.tight_layout()\n",
        "plt.show()\n"
      ]
    },
    {
      "cell_type": "code",
      "execution_count": null,
      "metadata": {
        "id": "4xvWaDDAZw1X"
      },
      "outputs": [],
      "source": []
    },
    {
      "cell_type": "code",
      "execution_count": null,
      "metadata": {
        "id": "EH27GcrFZma4"
      },
      "outputs": [],
      "source": [
        "# Group by user and date to count tweets per day\n",
        "\n",
        "user_trends = df.groupby(['users', df['createdAt'].dt.date]).size().reset_index(name='tweet_count')\n",
        "\n",
        "# Pivot the data to create a time series for each user\n",
        "user_trends_pivot = user_trends.pivot(index='createdAt', columns='users', values='tweet_count').fillna(0)\n",
        "\n",
        "# Plot trends for the top 3 most active users\n",
        "top_users = user_activity.head(3).index\n",
        "user_trends_pivot[top_users].plot(figsize=(12, 6))\n",
        "plt.title('Tweet Trends Over Time (Top 3 Users)', fontsize=16)\n",
        "plt.xlabel('Date', fontsize=12)\n",
        "plt.ylabel('Number of Tweets', fontsize=12)\n",
        "plt.legend(title='User', fontsize=10)\n",
        "plt.grid(axis='both', linestyle='--', alpha=0.7)\n",
        "plt.tight_layout()\n",
        "plt.show()\n"
      ]
    },
    {
      "cell_type": "markdown",
      "metadata": {
        "id": "qMmCHDN8CySn"
      },
      "source": [
        "## n-Gram"
      ]
    },
    {
      "cell_type": "code",
      "execution_count": null,
      "metadata": {
        "id": "2gfRWl5GPrC4"
      },
      "outputs": [],
      "source": [
        "df.createdAt"
      ]
    },
    {
      "cell_type": "code",
      "execution_count": null,
      "metadata": {
        "id": "maRDVT863xOh"
      },
      "outputs": [],
      "source": [
        "# Function to generate n-grams\n",
        "def generate_ngrams(texts, n):\n",
        "    vectorizer = CountVectorizer(ngram_range=(n, n), stop_words='english')\n",
        "    ngrams = vectorizer.fit_transform(texts)\n",
        "    ngram_counts = ngrams.toarray().sum(axis=0)\n",
        "    ngram_features = vectorizer.get_feature_names_out()\n",
        "    ngram_counter = Counter(dict(zip(ngram_features, ngram_counts)))\n",
        "    return ngram_counter.most_common(20)  # Top 20 n-grams\n",
        "\n",
        "\n"
      ]
    },
    {
      "cell_type": "code",
      "execution_count": null,
      "metadata": {
        "id": "0Xo7DzJF5cvM"
      },
      "outputs": [],
      "source": [
        "# Generate bigrams\n",
        "bigrams = generate_ngrams(df['cleaned_text'], 2)\n",
        "print(\"\\nTop 20 Bigrams:\")\n",
        "for bigram, count in bigrams:\n",
        "    print(f\"{bigram}: {count}\")\n",
        "\n"
      ]
    },
    {
      "cell_type": "code",
      "execution_count": null,
      "metadata": {
        "id": "1vCdOwyH5d9S"
      },
      "outputs": [],
      "source": [
        "# Generate trigrams\n",
        "trigrams = generate_ngrams(df['cleaned_text'], 3)\n",
        "print(\"\\nTop 20 Trigrams:\")\n",
        "for trigram, count in trigrams:\n",
        "    print(f\"{trigram}: {count}\")"
      ]
    },
    {
      "cell_type": "code",
      "execution_count": null,
      "metadata": {
        "id": "UVR7PIRT64CP"
      },
      "outputs": [],
      "source": [
        "# Function to generate word clouds with custom colors\n",
        "def generate_wordcloud(data, title, colormap):\n",
        "    wordcloud = WordCloud(width=800, height=400, background_color='white', colormap=colormap).generate(\" \".join(data))\n",
        "    plt.figure(figsize=(10, 5))\n",
        "    plt.imshow(wordcloud, interpolation='bilinear')\n",
        "    plt.axis('off')\n",
        "    plt.title(title, fontsize=16)\n",
        "    plt.show()"
      ]
    },
    {
      "cell_type": "markdown",
      "metadata": {
        "id": "EuASnuG6DAFi"
      },
      "source": [
        "## Sentiment analysis"
      ]
    },
    {
      "cell_type": "code",
      "execution_count": null,
      "metadata": {
        "id": "S6Aisr2o2TQR"
      },
      "outputs": [],
      "source": [
        "# Sentiment Analysis\n",
        "df['polarity'] = df['cleaned_text'].apply(lambda x: TextBlob(x).sentiment.polarity)\n",
        "df['subjectivity'] = df['cleaned_text'].apply(lambda x: TextBlob(x).sentiment.subjectivity)"
      ]
    },
    {
      "cell_type": "code",
      "execution_count": null,
      "metadata": {
        "id": "lPXfvFF66ieP"
      },
      "outputs": [],
      "source": [
        "# Define sentiment categories\n",
        "def categorize_sentiment(polarity):\n",
        "    if polarity < 0:\n",
        "        return 'negative'\n",
        "    elif polarity == 0:\n",
        "        return 'neutral'\n",
        "    else:\n",
        "        return 'positive'\n",
        "\n",
        "df['sentiment_category'] = df['polarity'].apply(categorize_sentiment)"
      ]
    },
    {
      "cell_type": "code",
      "execution_count": null,
      "metadata": {
        "id": "3Mp3mlci619v"
      },
      "outputs": [],
      "source": [
        "# General Word Cloud (Viridis)\n",
        "generate_wordcloud(df['cleaned_text'], \"General Word Cloud\", colormap='viridis')\n",
        "\n"
      ]
    },
    {
      "cell_type": "code",
      "execution_count": null,
      "metadata": {
        "id": "hsfdmKbF7VCa"
      },
      "outputs": [],
      "source": [
        "# Negative sentiment wordcloud\n",
        "negative_text = df[df['sentiment_category'] == 'negative']['cleaned_text']\n",
        "generate_wordcloud(negative_text, \"Negative Sentiment Word Cloud\", colormap='Reds')"
      ]
    },
    {
      "cell_type": "code",
      "execution_count": null,
      "metadata": {
        "id": "cvNksByp7Suf"
      },
      "outputs": [],
      "source": [
        "# Neutral sentiment wordcloud\n",
        "neutral_text = df[df['sentiment_category'] == 'neutral']['cleaned_text']\n",
        "generate_wordcloud(neutral_text, \"Neutral Sentiment Word Cloud\", colormap='Greys')"
      ]
    },
    {
      "cell_type": "code",
      "execution_count": null,
      "metadata": {
        "id": "Od1W1IXS7QVb"
      },
      "outputs": [],
      "source": [
        "# Positive wordcloud\n",
        "positive_text = df[df['sentiment_category'] == 'positive']['cleaned_text']\n",
        "generate_wordcloud(positive_text, \"Positive Sentiment Word Cloud\", colormap='Greens')"
      ]
    },
    {
      "cell_type": "code",
      "execution_count": null,
      "metadata": {
        "id": "stl10Ln22YGX"
      },
      "outputs": [],
      "source": [
        "# Create subplots\n",
        "fig, axes = plt.subplots(1, 2, figsize=(10, 6), sharey=True)\n",
        "\n",
        "# Polarity distribution\n",
        "sns.histplot(df['polarity'], kde=True, bins=30, color='blue', ax=axes[0])\n",
        "axes[0].set_title(\"Polarity Distribution\")\n",
        "axes[0].set_xlabel(\"Polarity\")\n",
        "axes[0].set_ylabel(\"Frequency\")\n",
        "\n",
        "# Subjectivity distribution\n",
        "sns.histplot(df['subjectivity'], kde=True, bins=30, color='green', ax=axes[1])\n",
        "axes[1].set_title(\"Subjectivity Distribution\")\n",
        "axes[1].set_xlabel(\"Subjectivity\")\n",
        "\n",
        "# Adjust layout\n",
        "plt.tight_layout()\n",
        "plt.suptitle(\"Sentiment Distribution\", fontsize=16, y=1.02)\n",
        "plt.show()"
      ]
    },
    {
      "cell_type": "code",
      "execution_count": null,
      "metadata": {
        "id": "gjNkYYV3ZUdg"
      },
      "outputs": [],
      "source": [
        "# Generate word clouds for each author\n",
        "authors = df['users'].unique()\n",
        "for author in authors:\n",
        "    text = ' '.join(df[df['users'] == author]['cleaned_text'])\n",
        "    wordcloud = WordCloud(width=800, height=400, background_color='white', colormap='viridis').generate(text)\n",
        "\n",
        "    plt.figure(figsize=(10, 5))\n",
        "    plt.imshow(wordcloud, interpolation='bilinear')\n",
        "    plt.title(f\"WordCloud for {author}\")\n",
        "    plt.axis('off')\n",
        "    plt.show()\n"
      ]
    },
    {
      "cell_type": "markdown",
      "metadata": {
        "id": "r-Oy2DQfYilq"
      },
      "source": [
        "### Sentiment analysis grouped by user"
      ]
    },
    {
      "cell_type": "code",
      "execution_count": null,
      "metadata": {
        "id": "jI_oN6EIYsmI"
      },
      "outputs": [],
      "source": [
        "# Group by user and calculate mean sentiment polarity\n",
        "user_sentiment = df.groupby('users')['polarity'].mean().sort_values(ascending=False)\n",
        "\n",
        "# Plot the top 10 users with the most positive sentiment\n",
        "plt.figure(figsize=(10, 6))\n",
        "user_sentiment.head(10).plot(kind='bar', color='teal', edgecolor='black')\n",
        "plt.title('Top 10 Users with Most Positive Sentiment', fontsize=16)\n",
        "plt.xlabel('User', fontsize=12)\n",
        "plt.ylabel('Average Polarity', fontsize=12)\n",
        "plt.xticks(rotation=45, fontsize=10)\n",
        "plt.tight_layout()\n",
        "plt.show()\n",
        "\n",
        "# Plot the top 10 users with the most negative sentiment\n",
        "plt.figure(figsize=(10, 6))\n",
        "user_sentiment.tail(10).plot(kind='bar', color='crimson', edgecolor='black')\n",
        "plt.title('Top 10 Users with Most Negative Sentiment', fontsize=16)\n",
        "plt.xlabel('User', fontsize=12)\n",
        "plt.ylabel('Average Polarity', fontsize=12)\n",
        "plt.xticks(rotation=45, fontsize=10)\n",
        "plt.tight_layout()\n",
        "plt.show()\n"
      ]
    },
    {
      "cell_type": "markdown",
      "metadata": {
        "id": "ikp3wZ_4CC0K"
      },
      "source": [
        "## Mentions analysis"
      ]
    },
    {
      "cell_type": "code",
      "execution_count": null,
      "metadata": {
        "id": "fmGSMPrjCFYl"
      },
      "outputs": [],
      "source": [
        "# Extract mentions from text\n",
        "def extract_mentions(text):\n",
        "    \"\"\"\n",
        "    Extracts all @mentions from the given text.\n",
        "    Handles potential float values in the 'text' column.\n",
        "    \"\"\"\n",
        "    if isinstance(text, str):\n",
        "        return [mention for mention in text.split() if mention.startswith('@')]\n",
        "    else:\n",
        "        return []\n",
        "\n",
        "# Apply the extraction function to the 'text' column\n",
        "df['mentions'] = df['text'].apply(extract_mentions)\n",
        "\n",
        "# Flatten the list of mentions for analysis\n",
        "all_mentions = [mention for mentions in df['mentions'] for mention in mentions]\n",
        "\n",
        "# Count occurrences of each mentioned user\n",
        "mention_counts = Counter(all_mentions)\n",
        "\n",
        "# Create a DataFrame of the most mentioned users\n",
        "mention_analysis = pd.DataFrame(mention_counts.items(), columns=['User', 'Count']).sort_values(by='Count', ascending=False)\n",
        "\n",
        "# Display the top 10 most mentioned users\n",
        "print(mention_analysis.head(10))"
      ]
    },
    {
      "cell_type": "markdown",
      "metadata": {
        "id": "U_jlTWzqgEZQ"
      },
      "source": [
        "## User Interaction Analysis"
      ]
    },
    {
      "cell_type": "code",
      "execution_count": null,
      "metadata": {
        "id": "nfDm2W26f7rI"
      },
      "outputs": [],
      "source": [
        "# Extract mentions from tweets\n",
        "df['mentions'] = df['cleaned_text'].str.findall(r'@\\w+')\n",
        "\n",
        "# Explode mentions into separate rows\n",
        "mentions_df = df.explode('mentions')\n",
        "\n",
        "# Count mentions by user\n",
        "mention_counts = mentions_df['mentions'].value_counts()\n",
        "\n",
        "# Visualize top mentions\n",
        "mention_counts.head(10).plot(kind='bar', figsize=(12, 6), color='coral')\n",
        "plt.title(\"Top Mentioned Users\")\n",
        "plt.xlabel(\"User\")\n",
        "plt.ylabel(\"Count\")\n",
        "plt.show()\n"
      ]
    },
    {
      "cell_type": "code",
      "execution_count": null,
      "metadata": {
        "id": "QmU2xMI-DVRJ"
      },
      "outputs": [],
      "source": [
        "import itertools\n",
        "from collections import Counter\n",
        "import networkx as nx\n",
        "import matplotlib.pyplot as plt\n",
        "\n",
        "# Extract mentions per row (already done previously)\n",
        "df['mentions'] = df['text'].apply(extract_mentions)\n",
        "\n",
        "# Generate occurrence pairs\n",
        "co_mention_pairs = [\n",
        "    pair for mentions in df['mentions'] if len(mentions) > 1 for pair in itertools.combinations(sorted(mentions), 2)]\n",
        "\n",
        "# Count occurrences\n",
        "co_mention_counts = Counter(co_mention_pairs)\n",
        "\n",
        "# Create a df for comentions\n",
        "co_mention_df = pd.DataFrame(\n",
        "    [(pair[0], pair[1], count) for pair, count in co_mention_counts.items()],\n",
        "    columns=['User1', 'User2', 'Count']\n",
        ").sort_values(by='Count', ascending=False)\n",
        "\n",
        "# Display top comentions\n",
        "print(co_mention_df.head(10))"
      ]
    },
    {
      "cell_type": "markdown",
      "metadata": {
        "id": "CqFu85lqWN9o"
      },
      "source": [
        "## Retweets vs original tweets"
      ]
    },
    {
      "cell_type": "code",
      "execution_count": null,
      "metadata": {
        "id": "SnxvDw4kWSLO"
      },
      "outputs": [],
      "source": [
        "# Identify retweets (tweets starting with 'RT @')\n",
        "df['is_retweet'] = df['text'].str.startswith('RT @')\n",
        "\n",
        "# Count retweets vs original tweets\n",
        "retweet_counts = df['is_retweet'].value_counts()\n",
        "\n",
        "# Plot the data\n",
        "plt.figure(figsize=(8, 5))\n",
        "retweet_counts.plot(kind='bar', color=['skyblue', 'orange'], edgecolor='black')\n",
        "plt.title('Retweets vs Original Tweets', fontsize=16)\n",
        "plt.xticks(ticks=[0, 1], labels=['Original Tweets', 'Retweets'], rotation=0)\n",
        "plt.ylabel('Number of Tweets', fontsize=12)\n",
        "plt.grid(axis='y', linestyle='--', alpha=0.7)\n",
        "plt.tight_layout()\n",
        "plt.show()\n"
      ]
    },
    {
      "cell_type": "markdown",
      "metadata": {
        "id": "gkhUOkIuX3xT"
      },
      "source": [
        "## Retweet influence by user"
      ]
    },
    {
      "cell_type": "code",
      "execution_count": null,
      "metadata": {
        "id": "9YOPiwqfX3XH"
      },
      "outputs": [],
      "source": [
        "df['retweeted_user'] = df['text'].str.extract(r'^RT @(\\w+):')\n",
        "\n",
        "# Count the most retweeted users and plot the top retweeted users\n",
        "retweeted_user_counts = df['retweeted_user'].value_counts()\n",
        "\n",
        "plt.figure(figsize=(10, 6))\n",
        "retweeted_user_counts.head(10).plot(kind='bar', color='darkgreen', edgecolor='black')\n",
        "plt.title('Top 10 most retweeted users', fontsize=16)\n",
        "plt.xlabel('Retweeted user', fontsize=12)\n",
        "plt.ylabel('Number of Retweets', fontsize=12)\n",
        "plt.xticks(rotation=45, fontsize=10)\n",
        "plt.tight_layout()\n",
        "plt.show()"
      ]
    },
    {
      "cell_type": "markdown",
      "metadata": {
        "id": "Ay4MEw0saFKT"
      },
      "source": [
        "## Hashtag Analysis"
      ]
    },
    {
      "cell_type": "code",
      "execution_count": null,
      "metadata": {
        "id": "PZ_WsnOXaHPc"
      },
      "outputs": [],
      "source": [
        "# Extract hashtags\n",
        "df['hashtags'] = df['text'].str.findall(r'#\\w+')\n",
        "\n",
        "# Flatten the list of hashtags and count occurrences\n",
        "all_hashtags = pd.Series([hashtag for hashtags in df['hashtags'] for hashtag in hashtags])\n",
        "hashtag_counts = all_hashtags.value_counts()\n",
        "\n",
        "# Plot the top 10 hashtags\n",
        "plt.figure(figsize=(10, 6))\n",
        "hashtag_counts.head(10).plot(kind='bar', color='orange', edgecolor='black')\n",
        "plt.title('Top 10 Hashtags', fontsize=16)\n",
        "plt.xlabel('Hashtag', fontsize=12)\n",
        "plt.ylabel('Count', fontsize=12)\n",
        "plt.xticks(rotation=45, fontsize=10)\n",
        "plt.tight_layout()\n",
        "plt.show()\n"
      ]
    },
    {
      "cell_type": "code",
      "execution_count": null,
      "metadata": {
        "id": "_R72Xz_AaqZ-"
      },
      "outputs": [],
      "source": []
    },
    {
      "cell_type": "markdown",
      "metadata": {
        "id": "hKMDHwqTCA0A"
      },
      "source": [
        "## LDA"
      ]
    },
    {
      "cell_type": "code",
      "execution_count": null,
      "metadata": {
        "id": "kBpubr1B2enL"
      },
      "outputs": [],
      "source": [
        "# Topic Modeling with LDA\n",
        "vectorizer = CountVectorizer(stop_words='english', max_features=5000)\n",
        "X = vectorizer.fit_transform(df['cleaned_text'])\n",
        "\n",
        "lda = LatentDirichletAllocation(n_components=5, random_state=42)\n",
        "lda.fit(X)\n"
      ]
    },
    {
      "cell_type": "code",
      "execution_count": null,
      "metadata": {
        "id": "VUPmiOZG27WH"
      },
      "outputs": [],
      "source": [
        "# Display topics\n",
        "def display_topics(model, feature_names, no_top_words):\n",
        "    for idx, topic in enumerate(model.components_):\n",
        "        print(f\"Topic {idx}:\")\n",
        "        print(\" \".join([feature_names[i] for i in topic.argsort()[:-no_top_words - 1:-1]]))\n",
        "\n",
        "print(\"\\nLDA Topics:\")\n",
        "display_topics(lda, vectorizer.get_feature_names_out(), 10)"
      ]
    },
    {
      "cell_type": "code",
      "execution_count": null,
      "metadata": {
        "id": "a8iUHhwx8FCK"
      },
      "outputs": [],
      "source": [
        "from sklearn.manifold import TSNE\n",
        "from gensim.models import Word2Vec\n",
        "import numpy as np\n",
        "\n",
        "# Train a Word2Vec model\n",
        "tokenized_text = [text.split() for text in df['cleaned_text']]\n",
        "w2v_model = Word2Vec(sentences=tokenized_text, vector_size=100, window=5, min_count=5, workers=4)\n",
        "\n",
        "# Extract word vectors\n",
        "word_vectors = np.array([w2v_model.wv[word] for word in w2v_model.wv.key_to_index])\n",
        "word_labels = list(w2v_model.wv.key_to_index)\n",
        "\n",
        "tsne = TSNE(n_components=2, random_state=42, perplexity=min(22, len(word_vectors))) # set perplexity to less than n_samples\n",
        "reduced_vectors = tsne.fit_transform(word_vectors)\n",
        "\n",
        "# Plot word embeddings\n",
        "plt.figure(figsize=(14, 10))\n",
        "plt.scatter(reduced_vectors[:, 0], reduced_vectors[:, 1], alpha=0.7)\n",
        "for i, label in enumerate(word_labels):\n",
        "    plt.annotate(label, (reduced_vectors[i, 0], reduced_vectors[i, 1]), fontsize=8, alpha=0.75)\n",
        "plt.title(\"Word Embedding Visualization (t-SNE)\")\n",
        "plt.show()\n"
      ]
    },
    {
      "cell_type": "code",
      "execution_count": null,
      "metadata": {
        "id": "Lu-StOBL899D"
      },
      "outputs": [],
      "source": [
        "# Reduce dimensions using t-SNE, setting perplexity less than n_samples\n",
        "tsne = TSNE(n_components=2, random_state=42, perplexity=min(22, len(word_vectors))) # set perplexity to less than n_samples\n",
        "reduced_vectors = tsne.fit_transform(word_vectors)\n",
        "reduced_vectors"
      ]
    },
    {
      "cell_type": "markdown",
      "metadata": {
        "id": "IuUMmMGyfkxc"
      },
      "source": [
        "## Topics cluster analysis"
      ]
    },
    {
      "cell_type": "code",
      "execution_count": null,
      "metadata": {
        "id": "5nZuTN4lfnMp"
      },
      "outputs": [],
      "source": [
        "\n",
        "\n",
        "# Convert text to TF-IDF matrix\n",
        "vectorizer = TfidfVectorizer(max_features=500)\n",
        "tfidf_matrix = vectorizer.fit_transform(df['clean_text'])\n",
        "\n",
        "# K-Means clustering\n",
        "kmeans = KMeans(n_clusters=5, random_state=42).fit(tfidf_matrix)\n",
        "df['Cluster'] = kmeans.labels_\n",
        "\n",
        "# Analyze themes in each cluster\n",
        "for i in range(5):\n",
        "    cluster_texts = ' '.join(df[df['Cluster'] == i]['clean_text'])\n",
        "    print(f\"Cluster {i} Top Words:\")\n",
        "    print(pd.Series(cluster_texts.split()).value_counts().head(10))\n"
      ]
    },
    {
      "cell_type": "markdown",
      "metadata": {
        "id": "dsF-PlurabhF"
      },
      "source": [
        "## Thematic Grouping by Keywords"
      ]
    },
    {
      "cell_type": "code",
      "execution_count": null,
      "metadata": {
        "id": "c6mYGZBEaXQL"
      },
      "outputs": [],
      "source": [
        "# Define thematic keywords\n",
        "themes = {\n",
        "    'Politics and Leadership': ['kenya', 'president', 'government', 'ruto', 'state', 'african', 'change'],\n",
        "    'Economy and Development': ['project', 'money', 'change', 'ceremony', 'water', 'development'],\n",
        "    'Security and Law': ['security', 'police', 'court', 'state', 'people'],\n",
        "    'Culture and Community': ['cultural', 'family', 'church', 'people', 'kenyans', 'nairobi'],\n",
        "    'Education and Social Services': ['school', 'county', 'people', 'taveta', 'taita', 'kwale']\n",
        "}\n",
        "\n",
        "# Create a new column for theme\n",
        "def assign_theme(text):\n",
        "    for theme, keywords in themes.items():\n",
        "        if any(keyword in text.lower() for keyword in keywords):\n",
        "            return theme\n",
        "    return 'other'\n",
        "\n",
        "df['theme'] = df['text'].apply(assign_theme)\n",
        "\n",
        "# Count tweets by theme\n",
        "theme_counts = df['theme'].value_counts()\n",
        "\n",
        "# Plot the themes\n",
        "plt.figure(figsize=(8, 5))\n",
        "theme_counts.plot(kind='bar', color='green', edgecolor='black')\n",
        "plt.title('Tweet Themes', fontsize=16)\n",
        "plt.xlabel('Theme', fontsize=12)\n",
        "plt.ylabel('Number of Tweets', fontsize=12)\n",
        "plt.xticks(rotation=45, fontsize=10)\n",
        "plt.tight_layout()\n",
        "plt.show()\n"
      ]
    },
    {
      "cell_type": "markdown",
      "metadata": {
        "id": "uvovMdWecUjB"
      },
      "source": [
        "### Sentiment Analysis by Themes"
      ]
    },
    {
      "cell_type": "code",
      "execution_count": null,
      "metadata": {
        "id": "NNKU7fGecT7W"
      },
      "outputs": [],
      "source": [
        "# Group by thematic keywords or hashtags\n",
        "themes = ['economy', 'leadership', 'youth', 'Kenya', 'progress']  # Define themes\n",
        "theme_sentiments = {}\n",
        "\n",
        "for theme in themes:\n",
        "    theme_tweets = df[df['cleaned_text'].str.contains(theme, case=False, na=False)]\n",
        "    avg_polarity = theme_tweets['polarity'].mean()\n",
        "    avg_subjectivity = theme_tweets['subjectivity'].mean()\n",
        "    theme_sentiments[theme] = {'Polarity': avg_polarity, 'Subjectivity': avg_subjectivity}\n",
        "\n",
        "theme_sentiments_df = pd.DataFrame(theme_sentiments).T\n",
        "print(theme_sentiments_df)\n"
      ]
    },
    {
      "cell_type": "markdown",
      "metadata": {
        "id": "GT4_YmE7cn2m"
      },
      "source": [
        "### Temporal analysis of hashtags"
      ]
    },
    {
      "cell_type": "code",
      "execution_count": null,
      "metadata": {
        "id": "qoWYQbBmcrkV"
      },
      "outputs": [],
      "source": [
        "# Extract hashtags\n",
        "df['hashtags'] = df['cleaned_text'].str.findall(r'#\\w+')\n",
        "\n",
        "# Explode hashtags into separate rows\n",
        "hashtag_df = df[['created_at', 'hashtags']].explode('hashtags')\n",
        "hashtag_df['date'] = pd.to_datetime(df['created_at']).dt.date\n",
        "\n",
        "# Group by date and hashtag\n",
        "hashtag_trends = hashtag_df.groupby(['date', 'hashtags']).size().reset_index(name='count')\n",
        "\n",
        "# Visualize trends for top hashtags\n",
        "top_hashtags = hashtag_trends['hashtags'].value_counts().nlargest(5).index\n",
        "filtered_trends = hashtag_trends[hashtag_trends['hashtags'].isin(top_hashtags)]\n",
        "\n",
        "plt.figure(figsize=(12, 6))\n",
        "sns.lineplot(data=filtered_trends, x='date', y='count', hue='hashtags')\n",
        "plt.title(\"Hashtag Trends Over Time\")\n",
        "plt.xlabel(\"Date\")\n",
        "plt.ylabel(\"Count\")\n",
        "plt.show()\n"
      ]
    },
    {
      "cell_type": "markdown",
      "metadata": {
        "id": "nVZumO_Xb4B2"
      },
      "source": [
        "## Co-occurrence Network Analysis"
      ]
    },
    {
      "cell_type": "code",
      "execution_count": null,
      "metadata": {
        "id": "LtY43Po2b21X"
      },
      "outputs": [],
      "source": [
        "from itertools import combinations\n",
        "import networkx as nx\n",
        "from collections import Counter\n",
        "\n",
        "# Tokenize text and get co-occurring pairs\n",
        "co_occurrence = []\n",
        "for tokens in df['cleaned_text'].apply(lambda x: x.split()):\n",
        "    co_occurrence.extend(combinations(tokens, 2))\n",
        "\n",
        "# Count co-occurrence\n",
        "co_occurrence_counts = Counter(co_occurrence)\n",
        "\n",
        "# Create graph\n",
        "G = nx.Graph()\n",
        "for pair, weight in co_occurrence_counts.items():\n",
        "    G.add_edge(pair[0], pair[1], weight=weight)\n",
        "\n",
        "# Visualize using NetworkX (or save for Gephi)\n",
        "plt.figure(figsize=(12, 12))\n",
        "nx.draw_networkx(G, with_labels=True, node_size=50, font_size=8, edge_color='gray')\n",
        "plt.title(\"Word co-occurrence network\")\n",
        "plt.show()\n"
      ]
    }
  ],
  "metadata": {
    "colab": {
      "collapsed_sections": [
        "Ay4MEw0saFKT"
      ],
      "provenance": [],
      "authorship_tag": "ABX9TyM05SLIAET32N9BtF3TGNlE",
      "include_colab_link": true
    },
    "kernelspec": {
      "display_name": "Python 3",
      "name": "python3"
    },
    "language_info": {
      "name": "python"
    }
  },
  "nbformat": 4,
  "nbformat_minor": 0
}